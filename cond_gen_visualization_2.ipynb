{
 "cells": [
  {
   "cell_type": "code",
   "execution_count": 1,
   "id": "8818c9ad",
   "metadata": {},
   "outputs": [],
   "source": [
    "import pickle\n",
    "import numpy as np\n",
    "import matplotlib.pyplot as plt\n",
    "from ipywidgets import interact, SelectionSlider\n",
    "\n",
    "# Load the data from file\n",
    "with open(\"waveform_results_sweeps.pkl\", \"rb\") as f:\n",
    "    waveform_dict = pickle.load(f)\n"
   ]
  },
  {
   "cell_type": "code",
   "execution_count": 2,
   "id": "8a30d1c1",
   "metadata": {},
   "outputs": [
    {
     "name": "stdout",
     "output_type": "stream",
     "text": [
      "dict_keys([(100, 0, 0.5, 'quadratic'), (100, 0, 0.5, 'linear'), (100, 0, 1.0, 'quadratic'), (100, 0, 1.0, 'linear'), (100, 0, 1.5, 'quadratic'), (100, 0, 1.5, 'linear'), (100, 0, 2.5, 'quadratic'), (100, 0, 2.5, 'linear'), (100, 0.2, 0.5, 'quadratic'), (100, 0.2, 0.5, 'linear'), (100, 0.2, 1.0, 'quadratic'), (100, 0.2, 1.0, 'linear'), (100, 0.2, 1.5, 'quadratic'), (100, 0.2, 1.5, 'linear'), (100, 0.2, 2.5, 'quadratic'), (100, 0.2, 2.5, 'linear'), (100, 0.5, 0.5, 'quadratic'), (100, 0.5, 0.5, 'linear'), (100, 0.5, 1.0, 'quadratic'), (100, 0.5, 1.0, 'linear'), (100, 0.5, 1.5, 'quadratic'), (100, 0.5, 1.5, 'linear'), (100, 0.5, 2.5, 'quadratic'), (100, 0.5, 2.5, 'linear'), (100, 0.8, 0.5, 'quadratic'), (100, 0.8, 0.5, 'linear'), (100, 0.8, 1.0, 'quadratic'), (100, 0.8, 1.0, 'linear'), (100, 0.8, 1.5, 'quadratic'), (100, 0.8, 1.5, 'linear'), (100, 0.8, 2.5, 'quadratic'), (100, 0.8, 2.5, 'linear'), (100, 1.0, 0.5, 'quadratic'), (100, 1.0, 0.5, 'linear'), (100, 1.0, 1.0, 'quadratic'), (100, 1.0, 1.0, 'linear'), (100, 1.0, 1.5, 'quadratic'), (100, 1.0, 1.5, 'linear'), (100, 1.0, 2.5, 'quadratic'), (100, 1.0, 2.5, 'linear'), (250, 0, 0.5, 'quadratic'), (250, 0, 0.5, 'linear'), (250, 0, 1.0, 'quadratic'), (250, 0, 1.0, 'linear'), (250, 0, 1.5, 'quadratic'), (250, 0, 1.5, 'linear'), (250, 0, 2.5, 'quadratic'), (250, 0, 2.5, 'linear'), (250, 0.2, 0.5, 'quadratic'), (250, 0.2, 0.5, 'linear'), (250, 0.2, 1.0, 'quadratic'), (250, 0.2, 1.0, 'linear'), (250, 0.2, 1.5, 'quadratic'), (250, 0.2, 1.5, 'linear'), (250, 0.2, 2.5, 'quadratic'), (250, 0.2, 2.5, 'linear'), (250, 0.5, 0.5, 'quadratic'), (250, 0.5, 0.5, 'linear'), (250, 0.5, 1.0, 'quadratic'), (250, 0.5, 1.0, 'linear'), (250, 0.5, 1.5, 'quadratic'), (250, 0.5, 1.5, 'linear'), (250, 0.5, 2.5, 'quadratic'), (250, 0.5, 2.5, 'linear'), (250, 0.8, 0.5, 'quadratic'), (250, 0.8, 0.5, 'linear'), (250, 0.8, 1.0, 'quadratic'), (250, 0.8, 1.0, 'linear'), (250, 0.8, 1.5, 'quadratic'), (250, 0.8, 1.5, 'linear'), (250, 0.8, 2.5, 'quadratic'), (250, 0.8, 2.5, 'linear'), (250, 1.0, 0.5, 'quadratic'), (250, 1.0, 0.5, 'linear'), (250, 1.0, 1.0, 'quadratic'), (250, 1.0, 1.0, 'linear'), (250, 1.0, 1.5, 'quadratic'), (250, 1.0, 1.5, 'linear'), (250, 1.0, 2.5, 'quadratic'), (250, 1.0, 2.5, 'linear'), (400, 0, 0.5, 'quadratic'), (400, 0, 0.5, 'linear'), (400, 0, 1.0, 'quadratic'), (400, 0, 1.0, 'linear'), (400, 0, 1.5, 'quadratic'), (400, 0, 1.5, 'linear'), (400, 0, 2.5, 'quadratic'), (400, 0, 2.5, 'linear'), (400, 0.2, 0.5, 'quadratic'), (400, 0.2, 0.5, 'linear'), (400, 0.2, 1.0, 'quadratic'), (400, 0.2, 1.0, 'linear'), (400, 0.2, 1.5, 'quadratic'), (400, 0.2, 1.5, 'linear'), (400, 0.2, 2.5, 'quadratic'), (400, 0.2, 2.5, 'linear'), (400, 0.5, 0.5, 'quadratic'), (400, 0.5, 0.5, 'linear'), (400, 0.5, 1.0, 'quadratic'), (400, 0.5, 1.0, 'linear'), (400, 0.5, 1.5, 'quadratic'), (400, 0.5, 1.5, 'linear'), (400, 0.5, 2.5, 'quadratic'), (400, 0.5, 2.5, 'linear'), (400, 0.8, 0.5, 'quadratic'), (400, 0.8, 0.5, 'linear'), (400, 0.8, 1.0, 'quadratic'), (400, 0.8, 1.0, 'linear'), (400, 0.8, 1.5, 'quadratic'), (400, 0.8, 1.5, 'linear'), (400, 0.8, 2.5, 'quadratic'), (400, 0.8, 2.5, 'linear'), (400, 1.0, 0.5, 'quadratic'), (400, 1.0, 0.5, 'linear'), (400, 1.0, 1.0, 'quadratic'), (400, 1.0, 1.0, 'linear'), (400, 1.0, 1.5, 'quadratic'), (400, 1.0, 1.5, 'linear'), (400, 1.0, 2.5, 'quadratic'), (400, 1.0, 2.5, 'linear')])\n"
     ]
    }
   ],
   "source": [
    "print(waveform_dict.keys())"
   ]
  },
  {
   "cell_type": "code",
   "execution_count": 4,
   "id": "0b47e10e",
   "metadata": {},
   "outputs": [
    {
     "data": {
      "application/vnd.jupyter.widget-view+json": {
       "model_id": "1939e4bb4633427796d4901905400988",
       "version_major": 2,
       "version_minor": 0
      },
      "text/plain": [
       "interactive(children=(SelectionSlider(description='Steps', options=(100, 250, 400), value=100), SelectionSlide…"
      ]
     },
     "metadata": {},
     "output_type": "display_data"
    },
    {
     "data": {
      "text/plain": [
       "<function __main__.plot_for_params(steps, eta, guidance_scale, method, cond)>"
      ]
     },
     "execution_count": 4,
     "metadata": {},
     "output_type": "execute_result"
    }
   ],
   "source": [
    "\n",
    "# Extract unique parameter choices (assuming keys are tuples: (guidance_scale, steps, eta, condition))\n",
    "steps_list = sorted(set(key[0] for key in waveform_dict.keys()))\n",
    "etas = sorted(set(key[1] for key in waveform_dict.keys()))\n",
    "guidance_scales = sorted(set(key[2] for key in waveform_dict.keys()))\n",
    "methods = sorted(set(key[3] for key in waveform_dict.keys()))\n",
    "conds = sorted(set(key for key in list(waveform_dict.values())[0].keys()))\n",
    "\n",
    "def plot_for_params(steps, eta, guidance_scale, method, cond):\n",
    "    config_key = (steps, eta, guidance_scale, method)\n",
    "    if config_key not in waveform_dict:\n",
    "        print(f\"Parameters {config_key} not found.\")\n",
    "        return\n",
    "    wfs = waveform_dict[config_key][cond]  # shape (batch_size, 512)\n",
    "    x = np.arange(wfs.shape[1])\n",
    "    x = np.flip(x, -1)\n",
    "    plt.figure(figsize=(9, 6))\n",
    "    for wf in wfs:\n",
    "        plt.plot(x, wf, alpha=0.1)\n",
    "    plt.title(f\"Guidance: {guidance_scale}, Steps: {steps}, Eta: {eta}, Tree-cover: {cond}\")\n",
    "    plt.xlim(0, wfs.shape[1] - 1)\n",
    "    plt.ylim(0, 1.2)\n",
    "    plt.show()\n",
    "\n",
    "\n",
    "slider_steps = SelectionSlider(\n",
    "    options=steps_list,\n",
    "    description=\"Steps\",\n",
    "    continuous_update=True\n",
    ")\n",
    "\n",
    "slider_eta = SelectionSlider(\n",
    "    options=etas,\n",
    "    description=\"Eta\",\n",
    "    continuous_update=True\n",
    ")\n",
    "\n",
    "slider_gs = SelectionSlider(\n",
    "    options=guidance_scales,\n",
    "    description=\"Guidance Scale\",\n",
    "    continuous_update=True\n",
    ")\n",
    "\n",
    "slider_method = SelectionSlider(\n",
    "    options=methods,\n",
    "    description=\"Method\",\n",
    "    continuous_update=True\n",
    ")\n",
    "\n",
    "slider_cond = SelectionSlider(\n",
    "    options=conds,\n",
    "    description=\"Tree-cover\",\n",
    "    continuous_update=True\n",
    ")\n",
    "\n",
    "interact(plot_for_params, steps=slider_steps, eta=slider_eta, guidance_scale=slider_gs, method=slider_method, cond=slider_cond)\n"
   ]
  },
  {
   "cell_type": "code",
   "execution_count": null,
   "id": "19a8f19d",
   "metadata": {},
   "outputs": [],
   "source": []
  },
  {
   "cell_type": "code",
   "execution_count": null,
   "id": "6a0f1176",
   "metadata": {},
   "outputs": [],
   "source": []
  },
  {
   "cell_type": "code",
   "execution_count": null,
   "id": "e5a82133",
   "metadata": {},
   "outputs": [],
   "source": []
  }
 ],
 "metadata": {
  "kernelspec": {
   "display_name": "base",
   "language": "python",
   "name": "python3"
  },
  "language_info": {
   "codemirror_mode": {
    "name": "ipython",
    "version": 3
   },
   "file_extension": ".py",
   "mimetype": "text/x-python",
   "name": "python",
   "nbconvert_exporter": "python",
   "pygments_lexer": "ipython3",
   "version": "3.12.2"
  }
 },
 "nbformat": 4,
 "nbformat_minor": 5
}
